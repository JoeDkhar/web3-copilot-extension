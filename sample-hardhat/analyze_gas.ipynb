{
 "cells": [
  {
   "cell_type": "markdown",
   "metadata": {},
   "source": [
    "# Gas Usage Analysis for ERC20 Contract\n",
    "\n",
    "This notebook compares the gas usage of an ERC20 contract with and without the Solidity optimizer enabled.\n",
    "We evaluate deployment costs and function-level execution costs, providing both tabular and visual results.\n"
   ]
  },
  {
   "cell_type": "code",
   "execution_count": 1,
   "metadata": {},
   "outputs": [
    {
     "data": {
      "text/html": [
       "<div>\n",
       "<style scoped>\n",
       "    .dataframe tbody tr th:only-of-type {\n",
       "        vertical-align: middle;\n",
       "    }\n",
       "\n",
       "    .dataframe tbody tr th {\n",
       "        vertical-align: top;\n",
       "    }\n",
       "\n",
       "    .dataframe thead th {\n",
       "        text-align: right;\n",
       "    }\n",
       "</style>\n",
       "<table border=\"1\" class=\"dataframe\">\n",
       "  <thead>\n",
       "    <tr style=\"text-align: right;\">\n",
       "      <th></th>\n",
       "      <th>Method</th>\n",
       "      <th>Optimizer ON</th>\n",
       "      <th>Optimizer OFF</th>\n",
       "      <th>% Difference</th>\n",
       "    </tr>\n",
       "  </thead>\n",
       "  <tbody>\n",
       "    <tr>\n",
       "      <th>0</th>\n",
       "      <td>MyToken</td>\n",
       "      <td>669512</td>\n",
       "      <td>1172858</td>\n",
       "      <td>-42.916193</td>\n",
       "    </tr>\n",
       "    <tr>\n",
       "      <th>1</th>\n",
       "      <td>approve</td>\n",
       "      <td>46371</td>\n",
       "      <td>46952</td>\n",
       "      <td>-1.237434</td>\n",
       "    </tr>\n",
       "    <tr>\n",
       "      <th>2</th>\n",
       "      <td>deploy</td>\n",
       "      <td>669512</td>\n",
       "      <td>1172858</td>\n",
       "      <td>-42.916193</td>\n",
       "    </tr>\n",
       "    <tr>\n",
       "      <th>3</th>\n",
       "      <td>mint</td>\n",
       "      <td>53608</td>\n",
       "      <td>54234</td>\n",
       "      <td>-1.154257</td>\n",
       "    </tr>\n",
       "    <tr>\n",
       "      <th>4</th>\n",
       "      <td>transfer</td>\n",
       "      <td>51598</td>\n",
       "      <td>52188</td>\n",
       "      <td>-1.130528</td>\n",
       "    </tr>\n",
       "    <tr>\n",
       "      <th>5</th>\n",
       "      <td>transferFrom</td>\n",
       "      <td>52853</td>\n",
       "      <td>53652</td>\n",
       "      <td>-1.489227</td>\n",
       "    </tr>\n",
       "    <tr>\n",
       "      <th>6</th>\n",
       "      <td>transferOwnership</td>\n",
       "      <td>28656</td>\n",
       "      <td>29064</td>\n",
       "      <td>-1.403799</td>\n",
       "    </tr>\n",
       "  </tbody>\n",
       "</table>\n",
       "</div>"
      ],
      "text/plain": [
       "              Method  Optimizer ON  Optimizer OFF  % Difference\n",
       "0            MyToken        669512        1172858    -42.916193\n",
       "1            approve         46371          46952     -1.237434\n",
       "2             deploy        669512        1172858    -42.916193\n",
       "3               mint         53608          54234     -1.154257\n",
       "4           transfer         51598          52188     -1.130528\n",
       "5       transferFrom         52853          53652     -1.489227\n",
       "6  transferOwnership         28656          29064     -1.403799"
      ]
     },
     "execution_count": 1,
     "metadata": {},
     "output_type": "execute_result"
    }
   ],
   "source": [
    "import pandas as pd\n",
    "import matplotlib.pyplot as plt\n",
    "\n",
    "# Load parsed gas report comparison\n",
    "df = pd.read_csv(\"gas_comparison.csv\")\n",
    "\n",
    "# Compute % difference (savings with optimizer)\n",
    "df[\"% Difference\"] = (df[\"Optimizer ON\"] - df[\"Optimizer OFF\"]) / df[\"Optimizer OFF\"] * 100\n",
    "df"
   ]
  },
  {
   "cell_type": "markdown",
   "metadata": {},
   "source": [
    "## Results Table\n",
    "The table below shows gas consumption per function under two configurations (optimizer ON vs OFF), plus the relative percentage difference."
   ]
  },
  {
   "cell_type": "code",
   "execution_count": 2,
   "metadata": {},
   "outputs": [
    {
     "name": "stdout",
     "output_type": "stream",
     "text": [
      "=== Gas Usage Analysis ===\n",
      "Average function savings per transaction: -8.22%\n",
      "Deployment savings: -42.92%\n"
     ]
    },
    {
     "data": {
      "text/html": [
       "<div>\n",
       "<style scoped>\n",
       "    .dataframe tbody tr th:only-of-type {\n",
       "        vertical-align: middle;\n",
       "    }\n",
       "\n",
       "    .dataframe tbody tr th {\n",
       "        vertical-align: top;\n",
       "    }\n",
       "\n",
       "    .dataframe thead th {\n",
       "        text-align: right;\n",
       "    }\n",
       "</style>\n",
       "<table border=\"1\" class=\"dataframe\">\n",
       "  <thead>\n",
       "    <tr style=\"text-align: right;\">\n",
       "      <th></th>\n",
       "      <th>Method</th>\n",
       "      <th>Optimizer ON</th>\n",
       "      <th>Optimizer OFF</th>\n",
       "      <th>% Difference</th>\n",
       "    </tr>\n",
       "  </thead>\n",
       "  <tbody>\n",
       "    <tr>\n",
       "      <th>0</th>\n",
       "      <td>MyToken</td>\n",
       "      <td>669512</td>\n",
       "      <td>1172858</td>\n",
       "      <td>-42.916193</td>\n",
       "    </tr>\n",
       "    <tr>\n",
       "      <th>1</th>\n",
       "      <td>approve</td>\n",
       "      <td>46371</td>\n",
       "      <td>46952</td>\n",
       "      <td>-1.237434</td>\n",
       "    </tr>\n",
       "    <tr>\n",
       "      <th>2</th>\n",
       "      <td>deploy</td>\n",
       "      <td>669512</td>\n",
       "      <td>1172858</td>\n",
       "      <td>-42.916193</td>\n",
       "    </tr>\n",
       "    <tr>\n",
       "      <th>3</th>\n",
       "      <td>mint</td>\n",
       "      <td>53608</td>\n",
       "      <td>54234</td>\n",
       "      <td>-1.154257</td>\n",
       "    </tr>\n",
       "    <tr>\n",
       "      <th>4</th>\n",
       "      <td>transfer</td>\n",
       "      <td>51598</td>\n",
       "      <td>52188</td>\n",
       "      <td>-1.130528</td>\n",
       "    </tr>\n",
       "    <tr>\n",
       "      <th>5</th>\n",
       "      <td>transferFrom</td>\n",
       "      <td>52853</td>\n",
       "      <td>53652</td>\n",
       "      <td>-1.489227</td>\n",
       "    </tr>\n",
       "    <tr>\n",
       "      <th>6</th>\n",
       "      <td>transferOwnership</td>\n",
       "      <td>28656</td>\n",
       "      <td>29064</td>\n",
       "      <td>-1.403799</td>\n",
       "    </tr>\n",
       "  </tbody>\n",
       "</table>\n",
       "</div>"
      ],
      "text/plain": [
       "              Method  Optimizer ON  Optimizer OFF  % Difference\n",
       "0            MyToken        669512        1172858    -42.916193\n",
       "1            approve         46371          46952     -1.237434\n",
       "2             deploy        669512        1172858    -42.916193\n",
       "3               mint         53608          54234     -1.154257\n",
       "4           transfer         51598          52188     -1.130528\n",
       "5       transferFrom         52853          53652     -1.489227\n",
       "6  transferOwnership         28656          29064     -1.403799"
      ]
     },
     "execution_count": 2,
     "metadata": {},
     "output_type": "execute_result"
    }
   ],
   "source": [
    "# Export comparison results\n",
    "df.to_csv(\"gas_comparison_with_diff.csv\", index=False)\n",
    "print(\"=== Gas Usage Analysis ===\")\n",
    "print(\"Average function savings per transaction: {:.2f}%\".format(\n",
    "    df[df[\"Method\"].str.lower() != \"deploy\"][\"% Difference\"].mean()\n",
    "))\n",
    "\n",
    "if any(df[\"Method\"].str.contains(\"deploy\", case=False)):\n",
    "    print(\"Deployment savings: {:.2f}%\".format(\n",
    "        df[df[\"Method\"].str.contains(\"deploy\", case=False)][\"% Difference\"].iloc[0]\n",
    "    ))\n",
    "\n",
    "df"
   ]
  },
  {
   "cell_type": "markdown",
   "metadata": {},
   "source": [
    "## LaTeX Export\n",
    "The following code exports the results as a LaTeX-formatted table, ready for inclusion in a research paper."
   ]
  },
  {
   "cell_type": "code",
   "execution_count": 3,
   "metadata": {},
   "outputs": [
    {
     "name": "stdout",
     "output_type": "stream",
     "text": [
      "LaTeX table written to gas_comparison_table.tex\n"
     ]
    }
   ],
   "source": [
    "with open(\"gas_comparison_table.tex\", \"w\") as f:\n",
    "    f.write(df.to_latex(index=False, float_format=\"%.2f\"))\n",
    "\n",
    "print(\"LaTeX table written to gas_comparison_table.tex\")"
   ]
  },
  {
   "cell_type": "markdown",
   "metadata": {},
   "source": [
    "## Visualization\n",
    "We now plot the gas usage of each function with optimizer ON vs OFF to provide a visual comparison."
   ]
  },
  {
   "cell_type": "code",
   "execution_count": 4,
   "metadata": {},
   "outputs": [
    {
     "data": {
      "image/png": "[encoded data removed]",
      "text/plain": [
       "<Figure size 1000x600 with 1 Axes>"
      ]
     },
     "metadata": {},
     "output_type": "display_data"
    }
   ],
   "source": [
    "plt.figure(figsize=(10,6))\n",
    "x = range(len(df))\n",
    "plt.bar([i-0.2 for i in x], df[\"Optimizer ON\"], width=0.4, label=\"Optimizer ON\")\n",
    "plt.bar([i+0.2 for i in x], df[\"Optimizer OFF\"], width=0.4, label=\"Optimizer OFF\")\n",
    "plt.xticks(x, df[\"Method\"], rotation=45)\n",
    "plt.ylabel(\"Gas Used\")\n",
    "plt.title(\"Gas Usage Comparison: Optimizer ON vs OFF\")\n",
    "plt.legend()\n",
    "plt.tight_layout()\n",
    "plt.savefig(\"gas_usage_comparison.png\")\n",
    "plt.show()"
   ]
  },
  {
   "cell_type": "markdown",
   "metadata": {},
   "source": [
    "## Discussion\n",
    "\n",
    "### Key Observations:\n",
    "- **Deployment Costs:** Optimizer ON reduced deployment gas by ~43%, a substantial improvement. This demonstrates the optimizer’s effectiveness at compressing contract bytecode size and redundant operations.\n",
    "- **Function Calls:** Savings per function (approve, transfer, mint, transferFrom, transferOwnership) were modest (~1–2%). In some cases, the difference was almost negligible.\n",
    "- **Trade-Off:** While runtime savings are limited, the deployment savings are significant. For contracts deployed once but executed many times (like ERC20 tokens), optimizer ON is generally beneficial.\n",
    "- **Interpretation:** Optimizer ON is most impactful for contract bytecode size and deployment cost. Its effect on recurring function gas cost is small but consistent.\n"
   ]
  }
 ],
 "metadata": {
  "kernelspec": {
   "display_name": "Python 3",
   "language": "python",
   "name": "python3"
  },
  "language_info": {
   "codemirror_mode": {
    "name": "ipython",
    "version": 3
   },
   "file_extension": ".py",
   "mimetype": "text/x-python",
   "name": "python",
   "nbconvert_exporter": "python",
   "pygments_lexer": "ipython3",
   "version": "3.11.0"
  }
 },
 "nbformat": 4,
 "nbformat_minor": 5
}
