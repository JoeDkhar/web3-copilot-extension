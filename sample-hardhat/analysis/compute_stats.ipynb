{
 "cells": [
  {
   "cell_type": "code",
   "execution_count": null,
   "id": "613737f8",
   "metadata": {},
   "outputs": [
    {
     "name": "stdout",
     "output_type": "stream",
     "text": [
      "                   count             mean±sd        min        max\n",
      "transferGas         21.0  49155.14 ± 6131.52  34498.000  51598.000\n",
      "mintGas             18.0       53572.0 ± 0.0  53572.000  53572.000\n",
      "ownershipGas        18.0       28656.0 ± 0.0  28656.000  28656.000\n",
      "ownerBalance        21.0         100.0 ± 0.0     99.998     99.999\n",
      "user1Balance        21.0           0.0 ± 0.0      0.001      0.002\n",
      "user2Balance        21.0          0.01 ± 0.0      0.010      0.010\n",
      "totalSupplyBefore   21.0         100.0 ± 0.0    100.000    100.010\n",
      "totalSupplyAfter    21.0        100.01 ± 0.0    100.010    100.010\n"
     ]
    }
   ],
   "source": [
    "# analysis/compute_stats.py\n",
    "import pandas as pd\n",
    "import numpy as np\n",
    "from pathlib import Path\n",
    "from scipy import stats\n",
    "\n",
    "folder = Path('sample-hardhat/repro-artifacts/local')  # adjust path if needed\n",
    "files = sorted(folder.glob('interaction-summary-local-*.csv'))\n",
    "if not files:\n",
    "    print(\"No CSV files found in\", folder)\n",
    "    raise SystemExit(1)\n",
    "\n",
    "dfs = [pd.read_csv(f) for f in files]\n",
    "full = pd.concat(dfs, ignore_index=True)\n",
    "\n",
    "# Convert numeric columns (coerce errors -> NaN)\n",
    "numcols = ['transferGas','mintGas','ownershipGas','ownerBalance','user1Balance','user2Balance','totalSupplyBefore','totalSupplyAfter']\n",
    "for c in numcols:\n",
    "    full[c] = pd.to_numeric(full[c], errors='coerce')\n",
    "\n",
    "# Summary stats\n",
    "summary = full[numcols].agg(['count','mean','std','min','max']).T\n",
    "summary['mean±sd'] = summary['mean'].round(2).astype(str) + ' ± ' + summary['std'].round(2).astype(str)\n",
    "print(summary[['count','mean±sd','min','max']])\n",
    "\n",
    "# Example paired test: if you have two conditions aligned per-index you can run t-test\n",
    "# (This is just a template; adapt when you have baseline vs extension CSVs.)\n",
    "# Suppose you have baseline_df and extension_df with same index:\n",
    "# tstat, pval = stats.ttest_rel(baseline_df['transferGas'], extension_df['transferGas'], nan_policy='omit')\n",
    "# print(\"paired t-test transferGas: t=%.3f p=%.3g\" % (tstat, pval))\n"
   ]
  }
 ],
 "metadata": {
  "kernelspec": {
   "display_name": "Python 3",
   "language": "python",
   "name": "python3"
  },
  "language_info": {
   "codemirror_mode": {
    "name": "ipython",
    "version": 3
   },
   "file_extension": ".py",
   "mimetype": "text/x-python",
   "name": "python",
   "nbconvert_exporter": "python",
   "pygments_lexer": "ipython3",
   "version": "3.11.0"
  }
 },
 "nbformat": 4,
 "nbformat_minor": 5
}
