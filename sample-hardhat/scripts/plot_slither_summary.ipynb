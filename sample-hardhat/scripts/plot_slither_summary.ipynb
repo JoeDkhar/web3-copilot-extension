{
 "cells": [
  {
   "cell_type": "code",
   "execution_count": null,
   "id": "5a590310",
   "metadata": {},
   "outputs": [
    {
     "name": "stdout",
     "output_type": "stream",
     "text": [
      "Saved figures\\slither_findings.png figures\\slither_findings.svg\n"
     ]
    },
    {
     "data": {
      "image/png": "[encoded data removed]",
      "text/plain": [
       "<Figure size 800x400 with 1 Axes>"
      ]
     },
     "metadata": {},
     "output_type": "display_data"
    }
   ],
   "source": [
    "# scripts/plot_slither_summary.py\n",
    "import json\n",
    "import pandas as pd\n",
    "import matplotlib.pyplot as plt\n",
    "import os\n",
    "\n",
    "json_path = \"web3-copilot-extension/slither-output.json\"  # update if necessary\n",
    "out_dir = \"figures\"\n",
    "os.makedirs(out_dir, exist_ok=True)\n",
    "\n",
    "with open(json_path, 'r', encoding='utf8') as f:\n",
    "    data = json.load(f)\n",
    "\n",
    "# Slither JSON format varies; a common structure: data['results']['detectors'] or data['detectors']\n",
    "# Try to locate issues list:\n",
    "issues = []\n",
    "if 'results' in data and 'detectors' in data['results']:\n",
    "    detectors = data['results']['detectors']\n",
    "    for d in detectors:\n",
    "        name = d.get('name') or d.get('check')\n",
    "        issues.append(name)\n",
    "elif isinstance(data, dict):\n",
    "    # fallback gather messages\n",
    "    def gather(obj):\n",
    "        if isinstance(obj, dict):\n",
    "            for k,v in obj.items():\n",
    "                gather(v)\n",
    "        elif isinstance(obj, list):\n",
    "            for item in obj:\n",
    "                gather(item)\n",
    "        else:\n",
    "            pass\n",
    "    # naive approach: look for 'check' keys with names:\n",
    "    names = []\n",
    "    def collect_names(obj):\n",
    "        if isinstance(obj, dict):\n",
    "            if 'check' in obj and isinstance(obj['check'], str):\n",
    "                names.append(obj['check'])\n",
    "            for v in obj.values():\n",
    "                collect_names(v)\n",
    "        elif isinstance(obj, list):\n",
    "            for it in obj:\n",
    "                collect_names(it)\n",
    "    collect_names(data)\n",
    "    issues = names\n",
    "\n",
    "# Count occurrences by issue name\n",
    "from collections import Counter\n",
    "counts = Counter(issues)\n",
    "\n",
    "# Fallback: if counts empty, inspect any 'issues' key\n",
    "if not counts and 'issues' in data:\n",
    "    counts = Counter([i.get('check', 'unknown') for i in data['issues']])\n",
    "\n",
    "if not counts:\n",
    "    print(\"No issues parsed from Slither JSON. Inspect file manually.\")\n",
    "else:\n",
    "    df = pd.DataFrame.from_dict(counts, orient='index', columns=['count']).sort_values('count', ascending=False)\n",
    "    df = df.head(10)  # top 10\n",
    "    fig, ax = plt.subplots(figsize=(8,4))\n",
    "    df['count'].plot(kind='barh', ax=ax)\n",
    "    ax.set_xlabel('Findings count')\n",
    "    ax.set_title('Slither Findings (top categories)')\n",
    "    plt.tight_layout()\n",
    "    out_png = os.path.join(out_dir, \"slither_findings.png\")\n",
    "    out_svg = os.path.join(out_dir, \"slither_findings.svg\")\n",
    "    plt.savefig(out_png, dpi=300)\n",
    "    plt.savefig(out_svg)\n",
    "    print(\"Saved\", out_png, out_svg)\n"
   ]
  }
 ],
 "metadata": {
  "kernelspec": {
   "display_name": "Python 3",
   "language": "python",
   "name": "python3"
  },
  "language_info": {
   "codemirror_mode": {
    "name": "ipython",
    "version": 3
   },
   "file_extension": ".py",
   "mimetype": "text/x-python",
   "name": "python",
   "nbconvert_exporter": "python",
   "pygments_lexer": "ipython3",
   "version": "3.11.0"
  }
 },
 "nbformat": 4,
 "nbformat_minor": 5
}
